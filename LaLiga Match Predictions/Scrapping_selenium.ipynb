{
 "cells": [
  {
   "cell_type": "code",
   "execution_count": 1,
   "id": "7b39f950",
   "metadata": {},
   "outputs": [],
   "source": [
    "from selenium import webdriver\n",
    "from selenium.webdriver.common.by import By\n",
    "import pandas as pd\n",
    "import time"
   ]
  },
  {
   "cell_type": "markdown",
   "id": "b3841447",
   "metadata": {},
   "source": [
    "# Scrapping with selenium"
   ]
  },
  {
   "cell_type": "code",
   "execution_count": 127,
   "id": "63b99863",
   "metadata": {},
   "outputs": [],
   "source": [
    "def data_adq(link, year, df_name, jornada, dic):\n",
    "    #Scrape data from match and adds it to df\n",
    "    driver2 = webdriver.Safari()\n",
    "    driver2.get(link)\n",
    "    time.sleep(1)\n",
    "    accept = driver2.find_elements(By.XPATH, '//*[@id=\"didomi-notice-agree-button\"]')\n",
    "    accept[0].click()\n",
    "    stats = driver2.find_elements(By.TAG_NAME, 'a')\n",
    "    stats[10].click()\n",
    "    line1 = [1,jornada]\n",
    "    line2=[1,jornada]\n",
    "    table = driver2.find_elements(By.TAG_NAME, 'section')\n",
    "    diayhora = table[0]\n",
    "    a=diayhora.text.split()\n",
    "    dia = a[5][0]\n",
    "    line1.append(dia)\n",
    "    line2.append(dia)\n",
    "    fecha = a[5][1:6] + f'/{year}'\n",
    "    line1.append(fecha)\n",
    "    line2.append(fecha)\n",
    "    hora = a[6][0:5]\n",
    "    line1.append(hora)\n",
    "    line2.append(hora)\n",
    "    gion = a.index('-')\n",
    "    goles_casa = int(a[gion-1][-1])\n",
    "    goles_visita = int(a[gion+1][0])\n",
    "    line1.append(goles_casa)\n",
    "    line1.append(goles_visita)\n",
    "    line2.append(goles_visita)\n",
    "    line2.append(goles_casa)\n",
    "    equipos = driver2.find_elements(By.CSS_SELECTOR, 'h2.team-name')\n",
    "    equipo_casa = equipos[0].text\n",
    "    equipo_visita = equipos[1].text\n",
    "    line1.append(equipo_casa)\n",
    "    line1.append(equipo_visita)\n",
    "    line2.append(equipo_visita)\n",
    "    line2.append(equipo_casa)\n",
    "    numbers = driver2.find_elements(By.CSS_SELECTOR, 'div.voc-stat-item')\n",
    "    posesion = driver2.find_elements(By.CSS_SELECTOR, 'span.number')\n",
    "    home_pos = posesion[0].text\n",
    "    away_pos = posesion[1].text\n",
    "    line1.append(home_pos)\n",
    "    line2.append(away_pos)\n",
    "    a = [i.text for i in numbers]\n",
    "    a  = [s.replace(\"\\n\", \"\") for s in a]\n",
    "    a = a[1:17]\n",
    "    for stat in a:\n",
    "        stat = stat.split()\n",
    "        if len(stat) == 3:\n",
    "            line1.append(stat[0])\n",
    "            line2.append(stat[2])\n",
    "        if len(stat) == 4:\n",
    "            line1.append(stat[0])\n",
    "            line2.append(stat[3])\n",
    "        if len(stat) == 5:\n",
    "            line1.append(stat[0])\n",
    "            line2.append(stat[4])\n",
    "    line1.append('Si')\n",
    "    line2.append('No')\n",
    "    line1.append('19/20')\n",
    "    line2.append('19/20')\n",
    "    line1.append(dic[equipo_casa])\n",
    "    line2.append(dic[equipo_visita])\n",
    "    df.loc[len(df)] = line1\n",
    "    df.loc[len(df)] = line2\n",
    "    driver2.close()"
   ]
  },
  {
   "cell_type": "code",
   "execution_count": 27,
   "id": "4f068383",
   "metadata": {},
   "outputs": [],
   "source": [
    "cols=['Division', 'Jornada', 'Dia','Fecha','Hora','GF','GA','Equipo','Oponente','Posesion', 'Remates a Puerta', 'Remates Fuera', 'Remates de Palo', 'Asistencias', 'Asistencias de gol', 'Faltas Cometidas', 'Faltas Recibidas', 'Tarjetas Amarillas', 'Tarjetas Rojas', 'Pases Correctos', 'Pases Fallados', 'Fueras de Juego', 'Paradas', 'Corners', 'Penaltis a Favor', 'Penaltis en Contra', 'Casa', 'Temporada', 'pos']\n",
    "df = pd.DataFrame(columns=cols)\n",
    "#Empty Df"
   ]
  },
  {
   "cell_type": "code",
   "execution_count": 142,
   "id": "16f89602",
   "metadata": {},
   "outputs": [],
   "source": [
    "#Scrapping data before the new year\n",
    "for i in range(1,19):\n",
    "    web = f'https://www.elcorreo.com/deportes/futbol/liga-primera/2019-2020/jornada-{i}/clasificacion-resultados-sd.html'\n",
    "    driver = webdriver.Safari()\n",
    "    driver.get(web)\n",
    "    accept = driver.find_elements(By.XPATH, '//*[@id=\"didomi-notice-agree-button\"]')\n",
    "    accept[0].click()\n",
    "    table = driver.find_elements(By.CSS_SELECTOR, 'table.voc-resultados-list')\n",
    "    anchor_elements = table[0].find_elements(By.TAG_NAME, 'a')\n",
    "    href_links = [anchor.get_attribute('href') for anchor in anchor_elements]\n",
    "    links = []\n",
    "    table2 = driver.find_elements(By.CSS_SELECTOR, 'table.voc-clasificacion-list')\n",
    "    rows = table2[0].find_elements(By.CSS_SELECTOR, 'tr.voc-clasificacion-item')\n",
    "    dic = {}\n",
    "    for row in rows:\n",
    "        cosa = row.find_element(By.CSS_SELECTOR, 'td.equipo')\n",
    "        equipo = cosa.find_element(By.CSS_SELECTOR,'a.nombre-equipo').text\n",
    "        pos = cosa.find_element(By.CSS_SELECTOR,'span.posicion-tabla').text\n",
    "        dic[equipo] = int(pos)\n",
    "    for cosa in href_links:\n",
    "        if 'jornada' not in cosa:\n",
    "            links.append(cosa)\n",
    "    driver.close()\n",
    "    for link in links:\n",
    "        data_adq(link,2019,df, i, dic)\n",
    "    \n",
    "#Scrapping data after the new year\n",
    "for i in range(19,39):\n",
    "    web = f'https://www.elcorreo.com/deportes/futbol/liga-primera/2019-2020/jornada-{i}/clasificacion-resultados-sd.html'\n",
    "    driver = webdriver.Safari()\n",
    "    driver.get(web)\n",
    "    accept = driver.find_elements(By.XPATH, '//*[@id=\"didomi-notice-agree-button\"]')\n",
    "    accept[0].click()\n",
    "    table = driver.find_elements(By.CSS_SELECTOR, 'table.voc-resultados-list')\n",
    "    anchor_elements = table[0].find_elements(By.TAG_NAME, 'a')\n",
    "    href_links = [anchor.get_attribute('href') for anchor in anchor_elements]\n",
    "    links = []\n",
    "    table2 = driver.find_elements(By.CSS_SELECTOR, 'table.voc-clasificacion-list')\n",
    "    rows = table2[0].find_elements(By.CSS_SELECTOR, 'tr.voc-clasificacion-item')\n",
    "    dic = {}\n",
    "    for row in rows:\n",
    "        cosa = row.find_element(By.CSS_SELECTOR, 'td.equipo')\n",
    "        equipo = cosa.find_element(By.CSS_SELECTOR,'a.nombre-equipo').text\n",
    "        pos = cosa.find_element(By.CSS_SELECTOR,'span.posicion-tabla').text\n",
    "        dic[equipo] = int(pos)\n",
    "    for cosa in href_links:\n",
    "        if 'jornada' not in cosa:\n",
    "            links.append(cosa)\n",
    "    driver.close()\n",
    "    for link in links:\n",
    "        data_adq(link,2020,df, i, dic)\n"
   ]
  },
  {
   "cell_type": "markdown",
   "id": "fd5ff3a1",
   "metadata": {},
   "source": [
    "# Tranforming and prepping Data"
   ]
  },
  {
   "cell_type": "code",
   "execution_count": null,
   "id": "c6f1e411",
   "metadata": {},
   "outputs": [],
   "source": [
    "#W/L/D\n",
    "def compare_values(row):\n",
    "    if row['GF'] > row['GA']:\n",
    "        return 'W'\n",
    "    elif row['GF'] < row['GA']:\n",
    "        return 'L'\n",
    "    else:\n",
    "        return 'D'\n",
    "df['Resultado'] = df.apply(compare_values, axis=1)"
   ]
  },
  {
   "cell_type": "code",
   "execution_count": null,
   "id": "ee19da99",
   "metadata": {},
   "outputs": [],
   "source": [
    "df['Presición de Pases'] = df['Pases Correctos']/(df['Pases Correctos'] + df['Pases Fallados'])*100"
   ]
  },
  {
   "cell_type": "code",
   "execution_count": null,
   "id": "96e5df8f",
   "metadata": {},
   "outputs": [],
   "source": [
    "df['Remates Totales'] = df['Remates a Puerta'] + df['Remates Fuera'] + df['Remates de Palo']"
   ]
  },
  {
   "cell_type": "code",
   "execution_count": null,
   "id": "55744fb5",
   "metadata": {},
   "outputs": [],
   "source": [
    "import numpy as np\n",
    "df['Conversión Tiros Totales'] = np.where(df['Remates Totales'].isna() | (df['Remates Totales'] == 0), \n",
    "                                          0, \n",
    "                                          (df['GF'] / df['Remates Totales']) * 100)"
   ]
  },
  {
   "cell_type": "code",
   "execution_count": null,
   "id": "b618eb11",
   "metadata": {},
   "outputs": [],
   "source": [
    "df['Conversión Tiros Puerta'] = np.where(df['Remates a Puerta'].isna() | (df['Remates a Puerta'] == 0), \n",
    "                                          0, \n",
    "                                          (df['GF'] / df['Remates a Puerta']) * 100)"
   ]
  },
  {
   "cell_type": "code",
   "execution_count": null,
   "id": "d2f261f5",
   "metadata": {},
   "outputs": [],
   "source": [
    "v = []\n",
    "# To calculate ppoints per matchday\n",
    "for i in range(len(df)):\n",
    "    team = df.iloc[i]['Equipo']\n",
    "    jornada = df.iloc[i]['Jornada']\n",
    "    temp = df.iloc[i]['Temporada']\n",
    "    # Filter the DataFrame to only include rows for the same team and earlier matchdays\n",
    "    df_filtered = df[(df['Equipo'] == team) & (df['Jornada'] < jornada) & (df['Temporada'] == temp) ]\n",
    "    \n",
    "    # Calculate points based on the filtered DataFrame\n",
    "    points = 0\n",
    "    for result in df_filtered['Resultado']:\n",
    "        if result == 'W':\n",
    "            points += 3\n",
    "        elif result == 'D':\n",
    "            points += 1\n",
    "    v.append(points)"
   ]
  },
  {
   "cell_type": "code",
   "execution_count": null,
   "id": "3b6a6318",
   "metadata": {},
   "outputs": [],
   "source": [
    "df['Puntos'] = v"
   ]
  },
  {
   "cell_type": "code",
   "execution_count": null,
   "id": "b534e701",
   "metadata": {},
   "outputs": [],
   "source": [
    "GD = []\n",
    "\n",
    "for i in range(len(df)):\n",
    "    team = df.iloc[i]['Equipo']\n",
    "    jornada = df.iloc[i]['Jornada']\n",
    "    temp = df.iloc[i]['Temporada']\n",
    "    # Filter the DataFrame to only include rows for the same team and earlier matchdays\n",
    "    df_filtered = df[(df['Equipo'] == team) & (df['Jornada'] < jornada) & (df['Temporada'] == temp)]\n",
    "    \n",
    "    # Calculate points based on the filtered DataFrame\n",
    "    GF = df_filtered['GF'].sum()\n",
    "    GA = df_filtered['GA'].sum()\n",
    "    GD.append(GF-GA)\n",
    "df['GD'] =GD"
   ]
  },
  {
   "cell_type": "code",
   "execution_count": null,
   "id": "17dde10d",
   "metadata": {},
   "outputs": [],
   "source": [
    "df['Posesion'] = df['Posesion'].str.rstrip('%').astype(float)"
   ]
  },
  {
   "cell_type": "code",
   "execution_count": null,
   "id": "29191fb1",
   "metadata": {},
   "outputs": [],
   "source": [
    "def av(col,df):\n",
    "    stat = []\n",
    "    for i in range(len(df)):\n",
    "        team = df.iloc[i]['Equipo']\n",
    "        jornada = df.iloc[i]['Jornada']\n",
    "        temp = df.iloc[i]['Temporada']\n",
    "        # Filter the DataFrame to only include rows for the same team and earlier matchdays\n",
    "        df_filtered = df[(df['Equipo'] == team) & (df['Jornada'] < jornada) & (df['Temporada'] == temp)]\n",
    "\n",
    "        # Calculate points based on the filtered DataFrame\n",
    "        summ = df_filtered[col].sum()\n",
    "        stat.append(round(summ/jornada,2))\n",
    "        name = col + '/game'\n",
    "    df[name] = stat"
   ]
  },
  {
   "cell_type": "code",
   "execution_count": null,
   "id": "825ff0ef",
   "metadata": {},
   "outputs": [],
   "source": [
    "cosa = ['GF', 'GA', 'Posesion', 'Remates a Puerta', 'Remates Fuera',\n",
    "       'Remates de Palo', 'Asistencias', 'Asistencias de gol',\n",
    "       'Faltas Cometidas', 'Faltas Recibidas', 'Tarjetas Amarillas',\n",
    "       'Tarjetas Rojas', 'Pases Correctos', 'Pases Fallados',\n",
    "       'Fueras de Juego', 'Paradas', 'Corners', 'Penaltis a Favor',\n",
    "       'Penaltis en Contra',\n",
    "       'Presición de Pases', 'Remates Totales', 'Conversión Tiros Totales',\n",
    "       'Conversión Tiros Puerta']\n",
    "for stat in cosa:\n",
    "    av(stat, df)"
   ]
  },
  {
   "cell_type": "markdown",
   "id": "5c578d96",
   "metadata": {},
   "source": [
    "**Saving to CSV**"
   ]
  },
  {
   "cell_type": "code",
   "execution_count": 145,
   "id": "f53ddf19",
   "metadata": {},
   "outputs": [],
   "source": [
    "df.to_csv('full_1_202324.csv', index = False)"
   ]
  }
 ],
 "metadata": {
  "kernelspec": {
   "display_name": "Python 3 (ipykernel)",
   "language": "python",
   "name": "python3"
  },
  "language_info": {
   "codemirror_mode": {
    "name": "ipython",
    "version": 3
   },
   "file_extension": ".py",
   "mimetype": "text/x-python",
   "name": "python",
   "nbconvert_exporter": "python",
   "pygments_lexer": "ipython3",
   "version": "3.10.6"
  }
 },
 "nbformat": 4,
 "nbformat_minor": 5
}
